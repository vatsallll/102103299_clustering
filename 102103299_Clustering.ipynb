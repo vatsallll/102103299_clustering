{
 "cells": [
  {
   "cell_type": "code",
   "execution_count": 10,
   "metadata": {},
   "outputs": [],
   "source": [
    "# Import necessary libraries\n",
    "import numpy as np\n",
    "import pandas as pd\n",
    "from sklearn.cluster import KMeans, AgglomerativeClustering\n",
    "from sklearn.mixture import GaussianMixture\n",
    "from sklearn.preprocessing import StandardScaler, normalize\n",
    "from sklearn.decomposition import PCA\n",
    "from sklearn.metrics import silhouette_score, calinski_harabasz_score, davies_bouldin_score\n",
    "from sklearn.datasets import load_wine\n",
    "\n",
    "# Load wine dataset\n",
    "wine = load_wine()\n",
    "X = wine.data\n"
   ]
  },
  {
   "cell_type": "code",
   "execution_count": 11,
   "metadata": {},
   "outputs": [],
   "source": [
    "# Define clustering algorithms\n",
    "kmeans = KMeans(random_state=42)\n",
    "hierarchical = AgglomerativeClustering()\n",
    "# Specify the number of components (clusters) for GMM\n",
    "gmm = GaussianMixture(n_components=3, random_state=42)  # You can adjust the number of components as needed\n"
   ]
  },
  {
   "cell_type": "code",
   "execution_count": 12,
   "metadata": {},
   "outputs": [],
   "source": [
    "# Define preprocessing approaches\n",
    "preprocessing = {\n",
    "    'No Preprocessing': lambda x: x,\n",
    "    'Normalize': normalize,\n",
    "    'Transform': lambda x: x,  # Replace with your own transformation function\n",
    "    'PCA': lambda x: PCA(n_components=2).fit_transform(x),\n",
    "    'T+N': lambda x: normalize(x),\n",
    "    'T+N+PCA': lambda x: PCA(n_components=2).fit_transform(normalize(x))\n",
    "}\n"
   ]
  },
  {
   "cell_type": "code",
   "execution_count": 13,
   "metadata": {},
   "outputs": [
    {
     "name": "stderr",
     "output_type": "stream",
     "text": [
      "C:\\Users\\somya\\AppData\\Local\\Packages\\PythonSoftwareFoundation.Python.3.10_qbz5n2kfra8p0\\LocalCache\\local-packages\\Python310\\site-packages\\sklearn\\cluster\\_kmeans.py:1416: FutureWarning: The default value of `n_init` will change from 10 to 'auto' in 1.4. Set the value of `n_init` explicitly to suppress the warning\n",
      "  super()._check_params_vs_input(X, default_n_init=10)\n",
      "C:\\Users\\somya\\AppData\\Local\\Packages\\PythonSoftwareFoundation.Python.3.10_qbz5n2kfra8p0\\LocalCache\\local-packages\\Python310\\site-packages\\sklearn\\cluster\\_kmeans.py:1416: FutureWarning: The default value of `n_init` will change from 10 to 'auto' in 1.4. Set the value of `n_init` explicitly to suppress the warning\n",
      "  super()._check_params_vs_input(X, default_n_init=10)\n",
      "C:\\Users\\somya\\AppData\\Local\\Packages\\PythonSoftwareFoundation.Python.3.10_qbz5n2kfra8p0\\LocalCache\\local-packages\\Python310\\site-packages\\sklearn\\cluster\\_kmeans.py:1416: FutureWarning: The default value of `n_init` will change from 10 to 'auto' in 1.4. Set the value of `n_init` explicitly to suppress the warning\n",
      "  super()._check_params_vs_input(X, default_n_init=10)\n",
      "C:\\Users\\somya\\AppData\\Local\\Packages\\PythonSoftwareFoundation.Python.3.10_qbz5n2kfra8p0\\LocalCache\\local-packages\\Python310\\site-packages\\sklearn\\cluster\\_kmeans.py:1416: FutureWarning: The default value of `n_init` will change from 10 to 'auto' in 1.4. Set the value of `n_init` explicitly to suppress the warning\n",
      "  super()._check_params_vs_input(X, default_n_init=10)\n",
      "C:\\Users\\somya\\AppData\\Local\\Packages\\PythonSoftwareFoundation.Python.3.10_qbz5n2kfra8p0\\LocalCache\\local-packages\\Python310\\site-packages\\sklearn\\cluster\\_kmeans.py:1416: FutureWarning: The default value of `n_init` will change from 10 to 'auto' in 1.4. Set the value of `n_init` explicitly to suppress the warning\n",
      "  super()._check_params_vs_input(X, default_n_init=10)\n",
      "C:\\Users\\somya\\AppData\\Local\\Packages\\PythonSoftwareFoundation.Python.3.10_qbz5n2kfra8p0\\LocalCache\\local-packages\\Python310\\site-packages\\sklearn\\cluster\\_kmeans.py:1416: FutureWarning: The default value of `n_init` will change from 10 to 'auto' in 1.4. Set the value of `n_init` explicitly to suppress the warning\n",
      "  super()._check_params_vs_input(X, default_n_init=10)\n",
      "C:\\Users\\somya\\AppData\\Local\\Packages\\PythonSoftwareFoundation.Python.3.10_qbz5n2kfra8p0\\LocalCache\\local-packages\\Python310\\site-packages\\sklearn\\cluster\\_kmeans.py:1416: FutureWarning: The default value of `n_init` will change from 10 to 'auto' in 1.4. Set the value of `n_init` explicitly to suppress the warning\n",
      "  super()._check_params_vs_input(X, default_n_init=10)\n",
      "C:\\Users\\somya\\AppData\\Local\\Packages\\PythonSoftwareFoundation.Python.3.10_qbz5n2kfra8p0\\LocalCache\\local-packages\\Python310\\site-packages\\sklearn\\cluster\\_kmeans.py:1416: FutureWarning: The default value of `n_init` will change from 10 to 'auto' in 1.4. Set the value of `n_init` explicitly to suppress the warning\n",
      "  super()._check_params_vs_input(X, default_n_init=10)\n",
      "C:\\Users\\somya\\AppData\\Local\\Packages\\PythonSoftwareFoundation.Python.3.10_qbz5n2kfra8p0\\LocalCache\\local-packages\\Python310\\site-packages\\sklearn\\cluster\\_kmeans.py:1416: FutureWarning: The default value of `n_init` will change from 10 to 'auto' in 1.4. Set the value of `n_init` explicitly to suppress the warning\n",
      "  super()._check_params_vs_input(X, default_n_init=10)\n",
      "C:\\Users\\somya\\AppData\\Local\\Packages\\PythonSoftwareFoundation.Python.3.10_qbz5n2kfra8p0\\LocalCache\\local-packages\\Python310\\site-packages\\sklearn\\cluster\\_kmeans.py:1416: FutureWarning: The default value of `n_init` will change from 10 to 'auto' in 1.4. Set the value of `n_init` explicitly to suppress the warning\n",
      "  super()._check_params_vs_input(X, default_n_init=10)\n",
      "C:\\Users\\somya\\AppData\\Local\\Packages\\PythonSoftwareFoundation.Python.3.10_qbz5n2kfra8p0\\LocalCache\\local-packages\\Python310\\site-packages\\sklearn\\cluster\\_kmeans.py:1416: FutureWarning: The default value of `n_init` will change from 10 to 'auto' in 1.4. Set the value of `n_init` explicitly to suppress the warning\n",
      "  super()._check_params_vs_input(X, default_n_init=10)\n",
      "C:\\Users\\somya\\AppData\\Local\\Packages\\PythonSoftwareFoundation.Python.3.10_qbz5n2kfra8p0\\LocalCache\\local-packages\\Python310\\site-packages\\sklearn\\cluster\\_kmeans.py:1416: FutureWarning: The default value of `n_init` will change from 10 to 'auto' in 1.4. Set the value of `n_init` explicitly to suppress the warning\n",
      "  super()._check_params_vs_input(X, default_n_init=10)\n",
      "C:\\Users\\somya\\AppData\\Local\\Packages\\PythonSoftwareFoundation.Python.3.10_qbz5n2kfra8p0\\LocalCache\\local-packages\\Python310\\site-packages\\sklearn\\cluster\\_kmeans.py:1416: FutureWarning: The default value of `n_init` will change from 10 to 'auto' in 1.4. Set the value of `n_init` explicitly to suppress the warning\n",
      "  super()._check_params_vs_input(X, default_n_init=10)\n",
      "C:\\Users\\somya\\AppData\\Local\\Packages\\PythonSoftwareFoundation.Python.3.10_qbz5n2kfra8p0\\LocalCache\\local-packages\\Python310\\site-packages\\sklearn\\cluster\\_kmeans.py:1416: FutureWarning: The default value of `n_init` will change from 10 to 'auto' in 1.4. Set the value of `n_init` explicitly to suppress the warning\n",
      "  super()._check_params_vs_input(X, default_n_init=10)\n",
      "C:\\Users\\somya\\AppData\\Local\\Packages\\PythonSoftwareFoundation.Python.3.10_qbz5n2kfra8p0\\LocalCache\\local-packages\\Python310\\site-packages\\sklearn\\cluster\\_kmeans.py:1416: FutureWarning: The default value of `n_init` will change from 10 to 'auto' in 1.4. Set the value of `n_init` explicitly to suppress the warning\n",
      "  super()._check_params_vs_input(X, default_n_init=10)\n",
      "C:\\Users\\somya\\AppData\\Local\\Packages\\PythonSoftwareFoundation.Python.3.10_qbz5n2kfra8p0\\LocalCache\\local-packages\\Python310\\site-packages\\sklearn\\cluster\\_kmeans.py:1416: FutureWarning: The default value of `n_init` will change from 10 to 'auto' in 1.4. Set the value of `n_init` explicitly to suppress the warning\n",
      "  super()._check_params_vs_input(X, default_n_init=10)\n",
      "C:\\Users\\somya\\AppData\\Local\\Packages\\PythonSoftwareFoundation.Python.3.10_qbz5n2kfra8p0\\LocalCache\\local-packages\\Python310\\site-packages\\sklearn\\cluster\\_kmeans.py:1416: FutureWarning: The default value of `n_init` will change from 10 to 'auto' in 1.4. Set the value of `n_init` explicitly to suppress the warning\n",
      "  super()._check_params_vs_input(X, default_n_init=10)\n",
      "C:\\Users\\somya\\AppData\\Local\\Packages\\PythonSoftwareFoundation.Python.3.10_qbz5n2kfra8p0\\LocalCache\\local-packages\\Python310\\site-packages\\sklearn\\cluster\\_kmeans.py:1416: FutureWarning: The default value of `n_init` will change from 10 to 'auto' in 1.4. Set the value of `n_init` explicitly to suppress the warning\n",
      "  super()._check_params_vs_input(X, default_n_init=10)\n"
     ]
    }
   ],
   "source": [
    "# Create DataFrames to store the results for each algorithm\n",
    "index = ['Silhouette', 'Calinski-Harabasz', 'Davies-Bouldin']\n",
    "columns = pd.MultiIndex.from_product([['No Preprocessing', 'Normalize', 'Transform', 'PCA', 'T+N', 'T+N+PCA'], ['c=3', 'c=4', 'c=5']], names=['Preprocessing', 'Clusters'])\n",
    "kmeans_df = pd.DataFrame(index=index, columns=columns)\n",
    "hierarchical_df = pd.DataFrame(index=index, columns=columns)\n",
    "gaussian_df = pd.DataFrame(index=index, columns=columns)\n",
    "\n",
    "# Perform clustering for each combination of preprocessing and clusters\n",
    "for preprocess_column, preprocess_func in preprocessing.items():\n",
    "    for c in columns.get_level_values('Clusters').unique():\n",
    "        X_preprocessed = preprocess_func(X)\n",
    "        \n",
    "        # Fit the clustering algorithms\n",
    "        kmeans.fit(X_preprocessed)\n",
    "        hierarchical.fit(X_preprocessed)\n",
    "        gmm.fit(X_preprocessed)\n",
    "\n",
    "        # Evaluate clustering quality\n",
    "        kmeans_silhouette = silhouette_score(X_preprocessed, kmeans.labels_)\n",
    "        kmeans_calinski = calinski_harabasz_score(X_preprocessed, kmeans.labels_)\n",
    "        kmeans_bouldin = davies_bouldin_score(X_preprocessed, kmeans.labels_)\n",
    "\n",
    "        hierarchical_silhouette = silhouette_score(X_preprocessed, hierarchical.labels_)\n",
    "        hierarchical_calinski = calinski_harabasz_score(X_preprocessed, hierarchical.labels_)\n",
    "        hierarchical_bouldin = davies_bouldin_score(X_preprocessed, hierarchical.labels_)\n",
    "\n",
    "        gmm_silhouette = silhouette_score(X_preprocessed, gmm.predict(X_preprocessed))\n",
    "        gmm_calinski = calinski_harabasz_score(X_preprocessed, gmm.predict(X_preprocessed))\n",
    "        gmm_bouldin = davies_bouldin_score(X_preprocessed, gmm.predict(X_preprocessed))\n",
    "\n",
    "        # Update the results DataFrames\n",
    "        kmeans_df.loc[:, (preprocess_column, c)] = [kmeans_silhouette, kmeans_calinski, kmeans_bouldin]\n",
    "        hierarchical_df.loc[:, (preprocess_column, c)] = [hierarchical_silhouette, hierarchical_calinski, hierarchical_bouldin]\n",
    "        gaussian_df.loc[:, (preprocess_column, c)] = [gmm_silhouette, gmm_calinski, gmm_bouldin]\n"
   ]
  },
  {
   "cell_type": "code",
   "execution_count": 14,
   "metadata": {},
   "outputs": [
    {
     "name": "stdout",
     "output_type": "stream",
     "text": [
      "Combined results with technique names saved to compared_results.csv\n"
     ]
    }
   ],
   "source": [
    "# Save each DataFrame to a separate CSV file with technique name on top\n",
    "kmeans_df.to_csv('kmeans_results.csv', index=True)\n",
    "hierarchical_df.to_csv('hierarchical_results.csv', index=True)\n",
    "gaussian_df.to_csv('gaussian_results.csv', index=True)\n",
    "\n",
    "# Concatenate the CSV files with some space and technique names in between\n",
    "output_file = 'compared_results.csv'\n",
    "with open(output_file, 'w') as outfile:\n",
    "    # Write K-Means technique name\n",
    "    outfile.write('K-Means\\n')\n",
    "    with open('kmeans_results.csv', 'r') as infile:\n",
    "        outfile.write(infile.read())\n",
    "    outfile.write('\\n\\n')  # Add space between DataFrames\n",
    "    \n",
    "    # Write Hierarchical technique name\n",
    "    outfile.write('Hierarchical\\n')\n",
    "    with open('hierarchical_results.csv', 'r') as infile:\n",
    "        outfile.write(infile.read())\n",
    "    outfile.write('\\n\\n')  # Add space between DataFrames\n",
    "    \n",
    "    # Write Gaussian technique name\n",
    "    outfile.write('Gaussian\\n')\n",
    "    with open('gaussian_results.csv', 'r') as infile:\n",
    "        outfile.write(infile.read())\n",
    "\n",
    "print(f'Combined results with technique names saved to {output_file}')\n"
   ]
  }
 ],
 "metadata": {
  "kernelspec": {
   "display_name": "Python 3",
   "language": "python",
   "name": "python3"
  },
  "language_info": {
   "codemirror_mode": {
    "name": "ipython",
    "version": 3
   },
   "file_extension": ".py",
   "mimetype": "text/x-python",
   "name": "python",
   "nbconvert_exporter": "python",
   "pygments_lexer": "ipython3",
   "version": "3.10.11"
  }
 },
 "nbformat": 4,
 "nbformat_minor": 2
}
